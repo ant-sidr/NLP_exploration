{
 "cells": [
  {
   "cell_type": "code",
   "execution_count": null,
   "metadata": {
    "collapsed": true
   },
   "outputs": [],
   "source": [
    "import sys\n",
    "sys.path.append('../')"
   ]
  },
  {
   "cell_type": "code",
   "execution_count": null,
   "metadata": {},
   "outputs": [],
   "source": [
    "import dill\n",
    "import numpy as np\n",
    "import pandas as pd\n",
    "import tensorflow as tf\n",
    "from tqdm import tqdm_notebook\n",
    "from plotly.offline import init_notebook_mode, iplot\n",
    "from plotly import graph_objs as go\n",
    "\n",
    "#from src_nlp_pkg.text_preprocessing.text_preprocessor import TextPreprocessor as TP\n",
    "from utilities_nlp_pkg.one_hot_encoder import OneHotEncoder\n",
    "from utilities_nlp_pkg.word2vec_preprocessor import Word2VecPreprocessor as TP\n",
    "\n",
    "init_notebook_mode()"
   ]
  },
  {
   "cell_type": "code",
   "execution_count": null,
   "metadata": {
    "collapsed": true
   },
   "outputs": [],
   "source": [
    "embedding_dim = 3\n",
    "iterations = 1500\n",
    "language = 'ENG'\n",
    "\n",
    "corpus = {\n",
    "    'ENG': [\n",
    "        'man is strong', 'woman is pretty', 'boy is a young man', 'king is a strong man', 'girl is a young woman', \n",
    "        'queen is a wise woman', 'prince is a young king', 'princess is a young queen', \n",
    "        'a boy who is a prince will be king', 'a girl who is a princess will be queen'\n",
    "    ],\n",
    "    'RUS': [\n",
    "        'такой система найти широкий применение образование', \n",
    "        'такой информационный система главный образ решение практический учебный задача возникать структурированный формализуемый предметный область образование', \n",
    "        'основа концепция интеллектуальность умение работать формализованный знание человек', \n",
    "        'проблема поиск прогрессивный математический метод анализ проектированиу образовательный сложный система актуальный',\n",
    "        'наблюдать повышенный интерес разработка область экспертный система учебный назначение широкий слой специалист разный профиль число преподаватель', \n",
    "        'отмечать интерес распределенный интеллектуальный система сетевой обучение четкий понимание организовать образовательный процесс получение желаемый результат', \n",
    "        'построение педагогический образовательный модель сетевой информационный образовательный среда',\n",
    "        'теоретический педагогический аспект эффективность применение сетевой обучение требовать новый способ прием организация совместный учебный деятельность сетевой взаимодействие учащийся преподаватель', \n",
    "        'основной свойство интерактивный обучение открытый форма информационный обмен внешний среда число доступ знание профессиональный педагог эксперт который иметь личный работа сетевой технология прогнозировать развитие технология',\n",
    "        'знание такой предметный область нуждаться экспертный система', \n",
    "        'возникать проблема связанный многий исследователь область технология сетевой обучение переносить традиционный педагогический методика сетевой обучение учет специфика', \n",
    "        'традиционный лекция учебник сетевой обучение специфика сетевой обучение подразумевать организованный направленный открытый доступ динамичный система актуализуемый информация доступный онлайн консультация новый методический подход организация совместный проектный деятельность другой',\n",
    "        'технология сетевой обучение многий случай предполагать возможность выбор учащийся собственный расписание темп ритм обучение', \n",
    "        'возрастать нагрузка сетевой преподаватель модератор тьютор', \n",
    "        'индивидуализация снижение данный рутинный нагрузка использование подсистема',     \n",
    "        'подсистема обеспечить развитый автоматизированный система интеллектуальный подсказка помощь онлайн консультация сетевой обучение использование разный образовательный метод обучение лекция практикум проектный деятельность конференция деловой интерактивный тренинг',\n",
    "        'уникальный вопрос адресоваться преподаватель эксперт',\n",
    "        'анализ применение информационный система автоматизация учебный процесс образовательный учреждение выявить противоречие нарушающий основной тенденция современный образование дифференциация интеграция показать отсутствие целенаправленный использование управление учебный процесс соответствие требуемый принцип дидактический система', \n",
    "        'настоящий время оставаться актуальный выявление основной противоречие управление процесс обучение определение средство решение основа использование современный информационный технология первый очередь экспертный система',\n",
    "        'устранение указанный противоречие служить введение учебный процесс подсистема осуществляющий процесс обучение адаптивный блок интеллектуальный поддержка процесс обучение интеллектуализация информационный система', \n",
    "        'путь создание интеллектуальный подсистема модуль позволяющий проводить обучение аттестация анализировать эффективность обучение основа тест созданный эксперт индивидуализировать процесс обучение'\n",
    "    ]\n",
    "}\n",
    "\n",
    "corpus = TP.remove_stop_words(corpus[language], language)\n",
    "words = TP.get_unique_words(corpus)\n",
    "ohe = OneHotEncoder(words, False)"
   ]
  },
  {
   "cell_type": "code",
   "execution_count": null,
   "metadata": {},
   "outputs": [],
   "source": [
    "df = TP.get_words_and_context(corpus)\n",
    "df.head()"
   ]
  },
  {
   "cell_type": "code",
   "execution_count": null,
   "metadata": {
    "collapsed": true
   },
   "outputs": [],
   "source": [
    "X, Y = ohe.split_to_x_y(df)\n",
    "\n",
    "word_ph = tf.placeholder(tf.float32, shape=(None, ohe.dim))\n",
    "context_ph = tf.placeholder(tf.float32, shape=(None, ohe.dim))\n",
    "\n",
    "weights_hidden = tf.Variable(tf.random_normal([ohe.dim, embedding_dim]))\n",
    "bias_hidden = tf.Variable(tf.random_normal([1]))\n",
    "hidden_layer = tf.add(tf.matmul(word_ph, weights_hidden), bias_hidden)\n",
    "\n",
    "weights_pred = tf.Variable(tf.random_normal([embedding_dim, ohe.dim]))\n",
    "bias_pred = tf.Variable(tf.random_normal([1]))\n",
    "prediction = tf.nn.softmax(tf.add(tf.matmul(hidden_layer, weights_pred), bias_pred))\n",
    "\n",
    "loss = tf.reduce_mean(-tf.reduce_sum(context_ph * tf.log(prediction), axis=[1]))\n",
    "\n",
    "train_op = tf.train.GradientDescentOptimizer(0.05).minimize(loss)"
   ]
  },
  {
   "cell_type": "code",
   "execution_count": null,
   "metadata": {},
   "outputs": [],
   "source": [
    "sess = tf.Session()\n",
    "init = tf.global_variables_initializer()\n",
    "sess.run(init)\n",
    "\n",
    "PBAR = tqdm_notebook(total = iterations, desc = 'Word2Vec')\n",
    "for i in range(iterations):\n",
    "    sess.run(train_op, feed_dict={word_ph: X, context_ph: Y})\n",
    "    _loss = sess.run(loss, feed_dict={word_ph: X, context_ph: Y})\n",
    "    PBAR.update()\n",
    "    PBAR.write('Current loss is {:10.4f}%'.format(_loss), end = '\\r')"
   ]
  },
  {
   "cell_type": "code",
   "execution_count": null,
   "metadata": {},
   "outputs": [],
   "source": [
    "vectors = sess.run(weights_hidden + bias_hidden)\n",
    "#dill.dump(vectors, open('../dumps/vectors.dill', 'wb'))\n",
    "#vectors = dill.load(open('../dumps/vectors.dill', 'rb'))\n",
    "cols = ['x1', 'x2', 'x3'][:embedding_dim]\n",
    "w2v_df = pd.DataFrame(vectors, columns = cols)\n",
    "w2v_df['word'] = words\n",
    "w2v_df = w2v_df[['word'] + cols]\n",
    "w2v_df.head()"
   ]
  },
  {
   "cell_type": "code",
   "execution_count": null,
   "metadata": {},
   "outputs": [],
   "source": [
    "if embedding_dim == 2:\n",
    "    trace = go.Scatter(\n",
    "        x = w2v_df.x1,\n",
    "        y = w2v_df.x2,\n",
    "        text = w2v_df.word,\n",
    "        mode = 'markers+text',\n",
    "        marker = dict(\n",
    "            size = 1\n",
    "        ),\n",
    "        textfont = dict(\n",
    "            size = 18\n",
    "        )\n",
    "    )\n",
    "else:\n",
    "    trace = go.Scatter3d(\n",
    "        x = w2v_df.x1,\n",
    "        y = w2v_df.x2,\n",
    "        z = w2v_df.x3,\n",
    "        text = w2v_df.word,\n",
    "        mode = 'markers+text',\n",
    "        marker = dict(\n",
    "            size = 1\n",
    "        ),\n",
    "        textfont = dict(\n",
    "            size = 18\n",
    "        )\n",
    "    )\n",
    "\n",
    "layout = go.Layout(\n",
    "    height=768\n",
    ")\n",
    "\n",
    "iplot({'data': [trace], 'layout': layout}, show_link=False)"
   ]
  },
  {
   "cell_type": "code",
   "execution_count": null,
   "metadata": {},
   "outputs": [],
   "source": [
    "if language != 'ENG':\n",
    "    pass\n",
    "else:\n",
    "    w2v = w2v_df.copy()\n",
    "    w2v.index = w2v.word\n",
    "    w2v.drop('word', 1, inplace=True)\n",
    "    analogy = w2v.loc['king', 'x1':'x2'] - w2v.loc['man', 'x1':'x2'] + w2v.loc['woman', 'x1':'x2']\n",
    "    w2v['similarity'] = (w2v['x1'] - analogy.x1) ** 2 + (w2v['x2'] - analogy.x2) ** 2\n",
    "    \n",
    "    w2v.sort_values('similarity').head(3)"
   ]
  }
 ],
 "metadata": {
  "kernelspec": {
   "display_name": "Python 3",
   "language": "python",
   "name": "python3"
  },
  "language_info": {
   "codemirror_mode": {
    "name": "ipython",
    "version": 3
   },
   "file_extension": ".py",
   "mimetype": "text/x-python",
   "name": "python",
   "nbconvert_exporter": "python",
   "pygments_lexer": "ipython3",
   "version": "3.6.1"
  }
 },
 "nbformat": 4,
 "nbformat_minor": 1
}
